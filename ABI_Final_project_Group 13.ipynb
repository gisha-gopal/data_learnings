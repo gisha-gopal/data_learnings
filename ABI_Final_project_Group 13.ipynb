{
 "cells": [
  {
   "cell_type": "code",
   "execution_count": 55,
   "id": "8224f108",
   "metadata": {},
   "outputs": [
    {
     "data": {
      "text/html": [
       "<div>\n",
       "<style scoped>\n",
       "    .dataframe tbody tr th:only-of-type {\n",
       "        vertical-align: middle;\n",
       "    }\n",
       "\n",
       "    .dataframe tbody tr th {\n",
       "        vertical-align: top;\n",
       "    }\n",
       "\n",
       "    .dataframe thead th {\n",
       "        text-align: right;\n",
       "    }\n",
       "</style>\n",
       "<table border=\"1\" class=\"dataframe\">\n",
       "  <thead>\n",
       "    <tr style=\"text-align: right;\">\n",
       "      <th></th>\n",
       "      <th>relationship</th>\n",
       "      <th>case_status</th>\n",
       "      <th>assessment_status</th>\n",
       "      <th>care_plan_status</th>\n",
       "      <th>CG_FName</th>\n",
       "      <th>CG_LName</th>\n",
       "      <th>gender</th>\n",
       "      <th>marital_stat</th>\n",
       "      <th>health</th>\n",
       "      <th>employment</th>\n",
       "      <th>...</th>\n",
       "      <th>cg_responsibility</th>\n",
       "      <th>stat_id.1</th>\n",
       "      <th>sig_dt</th>\n",
       "      <th>trig</th>\n",
       "      <th>trigg_dt</th>\n",
       "      <th>modified_at</th>\n",
       "      <th>modified_by</th>\n",
       "      <th>created_at</th>\n",
       "      <th>created_by.1</th>\n",
       "      <th>cp_complete</th>\n",
       "    </tr>\n",
       "  </thead>\n",
       "  <tbody>\n",
       "    <tr>\n",
       "      <th>0</th>\n",
       "      <td>Other</td>\n",
       "      <td>Closed</td>\n",
       "      <td>Screener Completed</td>\n",
       "      <td>NaN</td>\n",
       "      <td>Phoebe</td>\n",
       "      <td>Buffay</td>\n",
       "      <td>NaN</td>\n",
       "      <td>NaN</td>\n",
       "      <td>NaN</td>\n",
       "      <td>1.0</td>\n",
       "      <td>...</td>\n",
       "      <td>NaN</td>\n",
       "      <td>NaN</td>\n",
       "      <td>NaN</td>\n",
       "      <td>NaN</td>\n",
       "      <td>NaN</td>\n",
       "      <td>NaN</td>\n",
       "      <td>NaN</td>\n",
       "      <td>NaT</td>\n",
       "      <td>NaN</td>\n",
       "      <td>NaN</td>\n",
       "    </tr>\n",
       "    <tr>\n",
       "      <th>1</th>\n",
       "      <td>Other</td>\n",
       "      <td>Closed</td>\n",
       "      <td>Summary Completed</td>\n",
       "      <td>Care Plan Completed</td>\n",
       "      <td>Phoebe</td>\n",
       "      <td>Buffay</td>\n",
       "      <td>NaN</td>\n",
       "      <td>NaN</td>\n",
       "      <td>NaN</td>\n",
       "      <td>1.0</td>\n",
       "      <td>...</td>\n",
       "      <td>call resources</td>\n",
       "      <td>22.0</td>\n",
       "      <td>2021-03-02 00:00:00</td>\n",
       "      <td>NaN</td>\n",
       "      <td>2021-05-31 00:00:00</td>\n",
       "      <td>2021-03-02 16:30:17</td>\n",
       "      <td>3000000</td>\n",
       "      <td>2020-10-28 15:27:47</td>\n",
       "      <td>3000000</td>\n",
       "      <td>0</td>\n",
       "    </tr>\n",
       "    <tr>\n",
       "      <th>2</th>\n",
       "      <td>Other</td>\n",
       "      <td>Closed</td>\n",
       "      <td>Summary Completed</td>\n",
       "      <td>Care Plan in Progress</td>\n",
       "      <td>Phoebe</td>\n",
       "      <td>Buffay</td>\n",
       "      <td>NaN</td>\n",
       "      <td>NaN</td>\n",
       "      <td>NaN</td>\n",
       "      <td>1.0</td>\n",
       "      <td>...</td>\n",
       "      <td>call resources</td>\n",
       "      <td>21.0</td>\n",
       "      <td>NaN</td>\n",
       "      <td>NaN</td>\n",
       "      <td>2021-05-31 00:00:00</td>\n",
       "      <td>2021-03-15 23:28:54</td>\n",
       "      <td>3000000</td>\n",
       "      <td>2021-03-15 23:28:54</td>\n",
       "      <td>3000000</td>\n",
       "      <td>0</td>\n",
       "    </tr>\n",
       "    <tr>\n",
       "      <th>3</th>\n",
       "      <td>Other</td>\n",
       "      <td>Closed</td>\n",
       "      <td>Followup Assessment in Progress</td>\n",
       "      <td>NaN</td>\n",
       "      <td>Phoebe</td>\n",
       "      <td>Buffay</td>\n",
       "      <td>NaN</td>\n",
       "      <td>NaN</td>\n",
       "      <td>NaN</td>\n",
       "      <td>1.0</td>\n",
       "      <td>...</td>\n",
       "      <td>NaN</td>\n",
       "      <td>NaN</td>\n",
       "      <td>NaN</td>\n",
       "      <td>NaN</td>\n",
       "      <td>NaN</td>\n",
       "      <td>NaN</td>\n",
       "      <td>NaN</td>\n",
       "      <td>NaT</td>\n",
       "      <td>NaN</td>\n",
       "      <td>NaN</td>\n",
       "    </tr>\n",
       "    <tr>\n",
       "      <th>4</th>\n",
       "      <td>Grandfather</td>\n",
       "      <td>Followup Care Plan in Progress</td>\n",
       "      <td>Summary Completed</td>\n",
       "      <td>Care Plan Completed</td>\n",
       "      <td>suryadev</td>\n",
       "      <td>j</td>\n",
       "      <td>F</td>\n",
       "      <td>S</td>\n",
       "      <td>NaN</td>\n",
       "      <td>2.0</td>\n",
       "      <td>...</td>\n",
       "      <td>NaN</td>\n",
       "      <td>22.0</td>\n",
       "      <td>2020-09-28 00:00:00</td>\n",
       "      <td>NaN</td>\n",
       "      <td>2020-10-08 00:00:00</td>\n",
       "      <td>2020-09-28 11:14:48</td>\n",
       "      <td>977</td>\n",
       "      <td>2020-09-28 11:11:41</td>\n",
       "      <td>977</td>\n",
       "      <td>0</td>\n",
       "    </tr>\n",
       "  </tbody>\n",
       "</table>\n",
       "<p>5 rows × 273 columns</p>\n",
       "</div>"
      ],
      "text/plain": [
       "  relationship                     case_status  \\\n",
       "0        Other                          Closed   \n",
       "1        Other                          Closed   \n",
       "2        Other                          Closed   \n",
       "3        Other                          Closed   \n",
       "4  Grandfather  Followup Care Plan in Progress   \n",
       "\n",
       "                 assessment_status       care_plan_status  CG_FName CG_LName  \\\n",
       "0               Screener Completed                    NaN    Phoebe   Buffay   \n",
       "1                Summary Completed    Care Plan Completed    Phoebe   Buffay   \n",
       "2                Summary Completed  Care Plan in Progress    Phoebe   Buffay   \n",
       "3  Followup Assessment in Progress                    NaN    Phoebe   Buffay   \n",
       "4                Summary Completed    Care Plan Completed  suryadev        j   \n",
       "\n",
       "  gender marital_stat  health  employment  ...  cg_responsibility  stat_id.1  \\\n",
       "0    NaN          NaN     NaN         1.0  ...                NaN        NaN   \n",
       "1    NaN          NaN     NaN         1.0  ...     call resources       22.0   \n",
       "2    NaN          NaN     NaN         1.0  ...     call resources       21.0   \n",
       "3    NaN          NaN     NaN         1.0  ...                NaN        NaN   \n",
       "4      F            S     NaN         2.0  ...                NaN       22.0   \n",
       "\n",
       "                sig_dt  trig             trigg_dt          modified_at  \\\n",
       "0                  NaN   NaN                  NaN                  NaN   \n",
       "1  2021-03-02 00:00:00   NaN  2021-05-31 00:00:00  2021-03-02 16:30:17   \n",
       "2                  NaN   NaN  2021-05-31 00:00:00  2021-03-15 23:28:54   \n",
       "3                  NaN   NaN                  NaN                  NaN   \n",
       "4  2020-09-28 00:00:00   NaN  2020-10-08 00:00:00  2020-09-28 11:14:48   \n",
       "\n",
       "   modified_by          created_at  created_by.1  cp_complete  \n",
       "0          NaN                 NaT           NaN          NaN  \n",
       "1      3000000 2020-10-28 15:27:47       3000000            0  \n",
       "2      3000000 2021-03-15 23:28:54       3000000            0  \n",
       "3          NaN                 NaT           NaN          NaN  \n",
       "4          977 2020-09-28 11:11:41           977            0  \n",
       "\n",
       "[5 rows x 273 columns]"
      ]
     },
     "execution_count": 55,
     "metadata": {},
     "output_type": "execute_result"
    }
   ],
   "source": [
    "import pandas as pd\n",
    "import numpy as np\n",
    "sheet1 = pd.read_excel(\"C:/Users/gisha/Downloads/p2.xlsx\")"
   ]
  },
  {
   "cell_type": "code",
   "execution_count": null,
   "id": "f63ed70e",
   "metadata": {},
   "outputs": [],
   "source": []
  },
  {
   "cell_type": "code",
   "execution_count": 9,
   "id": "491c256d",
   "metadata": {},
   "outputs": [],
   "source": []
  },
  {
   "cell_type": "code",
   "execution_count": 11,
   "id": "8c6e3fe1",
   "metadata": {},
   "outputs": [],
   "source": []
  },
  {
   "cell_type": "code",
   "execution_count": 14,
   "id": "38c99e39",
   "metadata": {},
   "outputs": [
    {
     "data": {
      "text/html": [
       "<div>\n",
       "<style scoped>\n",
       "    .dataframe tbody tr th:only-of-type {\n",
       "        vertical-align: middle;\n",
       "    }\n",
       "\n",
       "    .dataframe tbody tr th {\n",
       "        vertical-align: top;\n",
       "    }\n",
       "\n",
       "    .dataframe thead th {\n",
       "        text-align: right;\n",
       "    }\n",
       "</style>\n",
       "<table border=\"1\" class=\"dataframe\">\n",
       "  <thead>\n",
       "    <tr style=\"text-align: right;\">\n",
       "      <th></th>\n",
       "      <th>relationship</th>\n",
       "      <th>case_status</th>\n",
       "      <th>assessment_status</th>\n",
       "      <th>care_plan_status</th>\n",
       "      <th>CG_FName</th>\n",
       "      <th>CG_LName</th>\n",
       "      <th>gender</th>\n",
       "      <th>marital_stat</th>\n",
       "      <th>health</th>\n",
       "      <th>employment</th>\n",
       "      <th>...</th>\n",
       "      <th>cg_responsibility</th>\n",
       "      <th>stat_id.1</th>\n",
       "      <th>sig_dt</th>\n",
       "      <th>trig</th>\n",
       "      <th>trigg_dt</th>\n",
       "      <th>modified_at</th>\n",
       "      <th>modified_by</th>\n",
       "      <th>created_at</th>\n",
       "      <th>created_by.1</th>\n",
       "      <th>cp_complete</th>\n",
       "    </tr>\n",
       "  </thead>\n",
       "  <tbody>\n",
       "    <tr>\n",
       "      <th>0</th>\n",
       "      <td>Other</td>\n",
       "      <td>Closed</td>\n",
       "      <td>Screener Completed</td>\n",
       "      <td>NaN</td>\n",
       "      <td>Phoebe</td>\n",
       "      <td>Buffay</td>\n",
       "      <td>NaN</td>\n",
       "      <td>NaN</td>\n",
       "      <td>NaN</td>\n",
       "      <td>1.0</td>\n",
       "      <td>...</td>\n",
       "      <td>NaN</td>\n",
       "      <td>NaN</td>\n",
       "      <td>NaN</td>\n",
       "      <td>NaN</td>\n",
       "      <td>NaN</td>\n",
       "      <td>NaN</td>\n",
       "      <td>NaN</td>\n",
       "      <td>NaT</td>\n",
       "      <td>NaN</td>\n",
       "      <td>NaN</td>\n",
       "    </tr>\n",
       "    <tr>\n",
       "      <th>1</th>\n",
       "      <td>Other</td>\n",
       "      <td>Closed</td>\n",
       "      <td>Summary Completed</td>\n",
       "      <td>Care Plan Completed</td>\n",
       "      <td>Phoebe</td>\n",
       "      <td>Buffay</td>\n",
       "      <td>NaN</td>\n",
       "      <td>NaN</td>\n",
       "      <td>NaN</td>\n",
       "      <td>1.0</td>\n",
       "      <td>...</td>\n",
       "      <td>call resources</td>\n",
       "      <td>22.0</td>\n",
       "      <td>2021-03-02 00:00:00</td>\n",
       "      <td>NaN</td>\n",
       "      <td>2021-05-31 00:00:00</td>\n",
       "      <td>2021-03-02 16:30:17</td>\n",
       "      <td>3000000</td>\n",
       "      <td>2020-10-28 15:27:47</td>\n",
       "      <td>3000000</td>\n",
       "      <td>0</td>\n",
       "    </tr>\n",
       "    <tr>\n",
       "      <th>2</th>\n",
       "      <td>Other</td>\n",
       "      <td>Closed</td>\n",
       "      <td>Summary Completed</td>\n",
       "      <td>Care Plan in Progress</td>\n",
       "      <td>Phoebe</td>\n",
       "      <td>Buffay</td>\n",
       "      <td>NaN</td>\n",
       "      <td>NaN</td>\n",
       "      <td>NaN</td>\n",
       "      <td>1.0</td>\n",
       "      <td>...</td>\n",
       "      <td>call resources</td>\n",
       "      <td>21.0</td>\n",
       "      <td>NaN</td>\n",
       "      <td>NaN</td>\n",
       "      <td>2021-05-31 00:00:00</td>\n",
       "      <td>2021-03-15 23:28:54</td>\n",
       "      <td>3000000</td>\n",
       "      <td>2021-03-15 23:28:54</td>\n",
       "      <td>3000000</td>\n",
       "      <td>0</td>\n",
       "    </tr>\n",
       "    <tr>\n",
       "      <th>3</th>\n",
       "      <td>Other</td>\n",
       "      <td>Closed</td>\n",
       "      <td>Followup Assessment in Progress</td>\n",
       "      <td>NaN</td>\n",
       "      <td>Phoebe</td>\n",
       "      <td>Buffay</td>\n",
       "      <td>NaN</td>\n",
       "      <td>NaN</td>\n",
       "      <td>NaN</td>\n",
       "      <td>1.0</td>\n",
       "      <td>...</td>\n",
       "      <td>NaN</td>\n",
       "      <td>NaN</td>\n",
       "      <td>NaN</td>\n",
       "      <td>NaN</td>\n",
       "      <td>NaN</td>\n",
       "      <td>NaN</td>\n",
       "      <td>NaN</td>\n",
       "      <td>NaT</td>\n",
       "      <td>NaN</td>\n",
       "      <td>NaN</td>\n",
       "    </tr>\n",
       "    <tr>\n",
       "      <th>4</th>\n",
       "      <td>Grandfather</td>\n",
       "      <td>Followup Care Plan in Progress</td>\n",
       "      <td>Summary Completed</td>\n",
       "      <td>Care Plan Completed</td>\n",
       "      <td>suryadev</td>\n",
       "      <td>j</td>\n",
       "      <td>F</td>\n",
       "      <td>S</td>\n",
       "      <td>NaN</td>\n",
       "      <td>2.0</td>\n",
       "      <td>...</td>\n",
       "      <td>NaN</td>\n",
       "      <td>22.0</td>\n",
       "      <td>2020-09-28 00:00:00</td>\n",
       "      <td>NaN</td>\n",
       "      <td>2020-10-08 00:00:00</td>\n",
       "      <td>2020-09-28 11:14:48</td>\n",
       "      <td>977</td>\n",
       "      <td>2020-09-28 11:11:41</td>\n",
       "      <td>977</td>\n",
       "      <td>0</td>\n",
       "    </tr>\n",
       "  </tbody>\n",
       "</table>\n",
       "<p>5 rows × 273 columns</p>\n",
       "</div>"
      ],
      "text/plain": [
       "  relationship                     case_status  \\\n",
       "0        Other                          Closed   \n",
       "1        Other                          Closed   \n",
       "2        Other                          Closed   \n",
       "3        Other                          Closed   \n",
       "4  Grandfather  Followup Care Plan in Progress   \n",
       "\n",
       "                 assessment_status       care_plan_status  CG_FName CG_LName  \\\n",
       "0               Screener Completed                    NaN    Phoebe   Buffay   \n",
       "1                Summary Completed    Care Plan Completed    Phoebe   Buffay   \n",
       "2                Summary Completed  Care Plan in Progress    Phoebe   Buffay   \n",
       "3  Followup Assessment in Progress                    NaN    Phoebe   Buffay   \n",
       "4                Summary Completed    Care Plan Completed  suryadev        j   \n",
       "\n",
       "  gender marital_stat  health  employment  ...  cg_responsibility  stat_id.1  \\\n",
       "0    NaN          NaN     NaN         1.0  ...                NaN        NaN   \n",
       "1    NaN          NaN     NaN         1.0  ...     call resources       22.0   \n",
       "2    NaN          NaN     NaN         1.0  ...     call resources       21.0   \n",
       "3    NaN          NaN     NaN         1.0  ...                NaN        NaN   \n",
       "4      F            S     NaN         2.0  ...                NaN       22.0   \n",
       "\n",
       "                sig_dt  trig             trigg_dt          modified_at  \\\n",
       "0                  NaN   NaN                  NaN                  NaN   \n",
       "1  2021-03-02 00:00:00   NaN  2021-05-31 00:00:00  2021-03-02 16:30:17   \n",
       "2                  NaN   NaN  2021-05-31 00:00:00  2021-03-15 23:28:54   \n",
       "3                  NaN   NaN                  NaN                  NaN   \n",
       "4  2020-09-28 00:00:00   NaN  2020-10-08 00:00:00  2020-09-28 11:14:48   \n",
       "\n",
       "   modified_by          created_at  created_by.1  cp_complete  \n",
       "0          NaN                 NaT           NaN          NaN  \n",
       "1      3000000 2020-10-28 15:27:47       3000000            0  \n",
       "2      3000000 2021-03-15 23:28:54       3000000            0  \n",
       "3          NaN                 NaT           NaN          NaN  \n",
       "4          977 2020-09-28 11:11:41           977            0  \n",
       "\n",
       "[5 rows x 273 columns]"
      ]
     },
     "execution_count": 14,
     "metadata": {},
     "output_type": "execute_result"
    }
   ],
   "source": [
    "sheet1.head()"
   ]
  },
  {
   "cell_type": "code",
   "execution_count": 36,
   "id": "b0b0a36b",
   "metadata": {},
   "outputs": [],
   "source": [
    "#d_pivot_score=sheet1.pivot(index='d_score',columns='d_1',values='close')"
   ]
  },
  {
   "cell_type": "code",
   "execution_count": 37,
   "id": "487b55e9",
   "metadata": {},
   "outputs": [
    {
     "data": {
      "text/plain": [
       "13.940006629101756"
      ]
     },
     "execution_count": 37,
     "metadata": {},
     "output_type": "execute_result"
    }
   ],
   "source": [
    "#mean d-score\n",
    "mean_dscore = sheet1['d_score'].sum()/sheet1['d_score'].count()\n",
    "mean_dscore"
   ]
  },
  {
   "cell_type": "code",
   "execution_count": 62,
   "id": "843585bf",
   "metadata": {},
   "outputs": [
    {
     "data": {
      "text/plain": [
       "0     49.843506\n",
       "1     49.843506\n",
       "2     49.843506\n",
       "3           NaN\n",
       "4    122.323453\n",
       "Name: d_score, dtype: float64"
      ]
     },
     "execution_count": 62,
     "metadata": {},
     "output_type": "execute_result"
    }
   ],
   "source": [
    "sqd_d=sheet1['d_score'].apply(lambda x: (x-mean_dscore)**2)\n",
    "sqd_d.head()"
   ]
  },
  {
   "cell_type": "code",
   "execution_count": 44,
   "id": "8b51078a",
   "metadata": {},
   "outputs": [
    {
     "data": {
      "text/plain": [
       "333934.28239973483"
      ]
     },
     "execution_count": 44,
     "metadata": {},
     "output_type": "execute_result"
    }
   ],
   "source": [
    "sqd_dsum=sqd_d.sum()\n",
    "sqd_dsum"
   ]
  },
  {
   "cell_type": "code",
   "execution_count": 46,
   "id": "ec1479e6",
   "metadata": {},
   "outputs": [
    {
     "data": {
      "text/plain": [
       "55.35128168402699"
      ]
     },
     "execution_count": 46,
     "metadata": {},
     "output_type": "execute_result"
    }
   ],
   "source": [
    "var_d = sqd_dsum/(sheet1['d_score'].count()-1)\n",
    "var_d"
   ]
  },
  {
   "cell_type": "code",
   "execution_count": 48,
   "id": "ab1ad09d",
   "metadata": {},
   "outputs": [
    {
     "data": {
      "text/plain": [
       "55.351281684026276"
      ]
     },
     "execution_count": 48,
     "metadata": {},
     "output_type": "execute_result"
    }
   ],
   "source": [
    "sheet1['d_score'].var()"
   ]
  },
  {
   "cell_type": "code",
   "execution_count": 70,
   "id": "7aeb84d3",
   "metadata": {},
   "outputs": [
    {
     "data": {
      "text/plain": [
       "7.439844197564018"
      ]
     },
     "execution_count": 70,
     "metadata": {},
     "output_type": "execute_result"
    }
   ],
   "source": [
    "daily_sd_d = np.sqrt(var_d)\n",
    "daily_sd_d"
   ]
  },
  {
   "cell_type": "code",
   "execution_count": 71,
   "id": "f2209988",
   "metadata": {},
   "outputs": [
    {
     "data": {
      "text/plain": [
       "142.13802381723846"
      ]
     },
     "execution_count": 71,
     "metadata": {},
     "output_type": "execute_result"
    }
   ],
   "source": [
    "annual_sd_d = daily_sd_d*np.sqrt(365)\n",
    "annual_sd_d #volatility"
   ]
  },
  {
   "cell_type": "code",
   "execution_count": 59,
   "id": "04b489a8",
   "metadata": {},
   "outputs": [
    {
     "data": {
      "text/plain": [
       "6.443818362611866"
      ]
     },
     "execution_count": 59,
     "metadata": {},
     "output_type": "execute_result"
    }
   ],
   "source": [
    "#mean r-score\n",
    "mean_rscore = sheet1['r_score'].sum()/sheet1['r_score'].count()\n",
    "mean_rscore"
   ]
  },
  {
   "cell_type": "code",
   "execution_count": 61,
   "id": "17f31c3a",
   "metadata": {},
   "outputs": [
    {
     "data": {
      "text/plain": [
       "0     3.763626\n",
       "1     3.763626\n",
       "2     3.763626\n",
       "3          NaN\n",
       "4    64.963493\n",
       "Name: r_score, dtype: float64"
      ]
     },
     "execution_count": 61,
     "metadata": {},
     "output_type": "execute_result"
    }
   ],
   "source": [
    "sqd_r=sheet1['r_score'].apply(lambda x: (x-mean_dscore)**2)\n",
    "sqd_r.head()"
   ]
  },
  {
   "cell_type": "code",
   "execution_count": 64,
   "id": "e446258d",
   "metadata": {},
   "outputs": [
    {
     "data": {
      "text/plain": [
       "404307.0420947961"
      ]
     },
     "execution_count": 64,
     "metadata": {},
     "output_type": "execute_result"
    }
   ],
   "source": [
    "sqd_rsum=sqd_r.sum()\n",
    "sqd_rsum"
   ]
  },
  {
   "cell_type": "code",
   "execution_count": 66,
   "id": "2a7bee0b",
   "metadata": {},
   "outputs": [
    {
     "data": {
      "text/plain": [
       "67.01591945877608"
      ]
     },
     "execution_count": 66,
     "metadata": {},
     "output_type": "execute_result"
    }
   ],
   "source": [
    "var_r = sqd_rsum/(sheet1['r_score'].count()-1)\n",
    "var_r"
   ]
  },
  {
   "cell_type": "code",
   "execution_count": 68,
   "id": "b60e587c",
   "metadata": {},
   "outputs": [
    {
     "data": {
      "text/plain": [
       "10.813766687372143"
      ]
     },
     "execution_count": 68,
     "metadata": {},
     "output_type": "execute_result"
    }
   ],
   "source": [
    "sheet1['r_score'].var()"
   ]
  },
  {
   "cell_type": "code",
   "execution_count": 73,
   "id": "33e7bc20",
   "metadata": {},
   "outputs": [
    {
     "data": {
      "text/plain": [
       "8.186325149832255"
      ]
     },
     "execution_count": 73,
     "metadata": {},
     "output_type": "execute_result"
    }
   ],
   "source": [
    "daily_sd_r = np.sqrt(var_r)\n",
    "daily_sd_r"
   ]
  },
  {
   "cell_type": "code",
   "execution_count": 75,
   "id": "ebf04455",
   "metadata": {},
   "outputs": [
    {
     "data": {
      "text/plain": [
       "156.3995223856303"
      ]
     },
     "execution_count": 75,
     "metadata": {},
     "output_type": "execute_result"
    }
   ],
   "source": [
    "annual_sd_r = daily_sd_r*np.sqrt(365)\n",
    "annual_sd_r #volatility"
   ]
  },
  {
   "cell_type": "code",
   "execution_count": 77,
   "id": "89c8e671",
   "metadata": {},
   "outputs": [
    {
     "data": {
      "text/plain": [
       "11.167053364269142"
      ]
     },
     "execution_count": 77,
     "metadata": {},
     "output_type": "execute_result"
    }
   ],
   "source": [
    "#mean o-score\n",
    "mean_oscore = sheet1['o_score'].sum()/sheet1['o_score'].count()\n",
    "mean_oscore"
   ]
  },
  {
   "cell_type": "code",
   "execution_count": 78,
   "id": "27ad175b",
   "metadata": {},
   "outputs": [
    {
     "data": {
      "text/plain": [
       "0     78.020946\n",
       "1     78.020946\n",
       "2     78.020946\n",
       "3           NaN\n",
       "4    164.684519\n",
       "Name: o_score, dtype: float64"
      ]
     },
     "execution_count": 78,
     "metadata": {},
     "output_type": "execute_result"
    }
   ],
   "source": [
    "sqd_o=sheet1['o_score'].apply(lambda x: (x-mean_oscore)**2)\n",
    "sqd_o.head()"
   ]
  },
  {
   "cell_type": "code",
   "execution_count": 79,
   "id": "84787d6a",
   "metadata": {},
   "outputs": [
    {
     "data": {
      "text/plain": [
       "239423.61020881668"
      ]
     },
     "execution_count": 79,
     "metadata": {},
     "output_type": "execute_result"
    }
   ],
   "source": [
    "sqd_osum=sqd_o.sum()\n",
    "sqd_osum"
   ]
  },
  {
   "cell_type": "code",
   "execution_count": 80,
   "id": "05fdc0f4",
   "metadata": {},
   "outputs": [
    {
     "data": {
      "text/plain": [
       "39.68566388344384"
      ]
     },
     "execution_count": 80,
     "metadata": {},
     "output_type": "execute_result"
    }
   ],
   "source": [
    "var_o = sqd_osum/(sheet1['o_score'].count()-1)\n",
    "var_o"
   ]
  },
  {
   "cell_type": "code",
   "execution_count": 81,
   "id": "4f9a6b55",
   "metadata": {},
   "outputs": [
    {
     "data": {
      "text/plain": [
       "39.68566388344594"
      ]
     },
     "execution_count": 81,
     "metadata": {},
     "output_type": "execute_result"
    }
   ],
   "source": [
    "sheet1['o_score'].var()"
   ]
  },
  {
   "cell_type": "code",
   "execution_count": 82,
   "id": "92332a43",
   "metadata": {},
   "outputs": [
    {
     "data": {
      "text/plain": [
       "6.299655854365684"
      ]
     },
     "execution_count": 82,
     "metadata": {},
     "output_type": "execute_result"
    }
   ],
   "source": [
    "daily_sd_o = np.sqrt(var_o)\n",
    "daily_sd_o #volatility"
   ]
  },
  {
   "cell_type": "code",
   "execution_count": 83,
   "id": "a4bdc915",
   "metadata": {},
   "outputs": [
    {
     "data": {
      "text/plain": [
       "120.35475610650789"
      ]
     },
     "execution_count": 83,
     "metadata": {},
     "output_type": "execute_result"
    }
   ],
   "source": [
    "annual_sd_o = daily_sd_o*np.sqrt(365)\n",
    "annual_sd_o "
   ]
  },
  {
   "cell_type": "code",
   "execution_count": 84,
   "id": "d434fffd",
   "metadata": {},
   "outputs": [
    {
     "data": {
      "text/plain": [
       "7.614849187935035"
      ]
     },
     "execution_count": 84,
     "metadata": {},
     "output_type": "execute_result"
    }
   ],
   "source": [
    "#mean s-score\n",
    "mean_sscore = sheet1['s_score'].sum()/sheet1['s_score'].count()\n",
    "mean_sscore"
   ]
  },
  {
   "cell_type": "code",
   "execution_count": 85,
   "id": "4ffbf4c7",
   "metadata": {},
   "outputs": [
    {
     "data": {
      "text/plain": [
       "97292.909512761"
      ]
     },
     "execution_count": 85,
     "metadata": {},
     "output_type": "execute_result"
    }
   ],
   "source": [
    "sqd_s=sheet1['s_score'].apply(lambda x: (x-mean_sscore)**2)\n",
    "sqd_ssum=sqd_s.sum()\n",
    "sqd_ssum"
   ]
  },
  {
   "cell_type": "code",
   "execution_count": 86,
   "id": "af82915a",
   "metadata": {},
   "outputs": [
    {
     "data": {
      "text/plain": [
       "16.126787587064644"
      ]
     },
     "execution_count": 86,
     "metadata": {},
     "output_type": "execute_result"
    }
   ],
   "source": [
    "var_s = sqd_ssum/(sheet1['s_score'].count()-1)\n",
    "var_s"
   ]
  },
  {
   "cell_type": "code",
   "execution_count": 88,
   "id": "1447f8d4",
   "metadata": {},
   "outputs": [
    {
     "data": {
      "text/plain": [
       "16.12678758706395"
      ]
     },
     "execution_count": 88,
     "metadata": {},
     "output_type": "execute_result"
    }
   ],
   "source": [
    "sheet1['s_score'].var()"
   ]
  },
  {
   "cell_type": "code",
   "execution_count": 89,
   "id": "394aad91",
   "metadata": {},
   "outputs": [
    {
     "data": {
      "text/plain": [
       "4.015817175502969"
      ]
     },
     "execution_count": 89,
     "metadata": {},
     "output_type": "execute_result"
    }
   ],
   "source": [
    "daily_sd_s = np.sqrt(var_s)\n",
    "daily_sd_s #volatility"
   ]
  },
  {
   "cell_type": "code",
   "execution_count": 90,
   "id": "8428215f",
   "metadata": {},
   "outputs": [
    {
     "data": {
      "text/plain": [
       "76.72207941185245"
      ]
     },
     "execution_count": 90,
     "metadata": {},
     "output_type": "execute_result"
    }
   ],
   "source": [
    "annual_sd_s = daily_sd_s*np.sqrt(365)\n",
    "annual_sd_s "
   ]
  },
  {
   "cell_type": "code",
   "execution_count": 91,
   "id": "d297c17b",
   "metadata": {},
   "outputs": [
    {
     "data": {
      "text/plain": [
       "13.722737819025522"
      ]
     },
     "execution_count": 91,
     "metadata": {},
     "output_type": "execute_result"
    }
   ],
   "source": [
    "#mean u-score\n",
    "mean_uscore = sheet1['u_score'].sum()/sheet1['u_score'].count()\n",
    "mean_uscore"
   ]
  },
  {
   "cell_type": "code",
   "execution_count": 92,
   "id": "181b2b72",
   "metadata": {},
   "outputs": [
    {
     "data": {
      "text/plain": [
       "257975.1403712297"
      ]
     },
     "execution_count": 92,
     "metadata": {},
     "output_type": "execute_result"
    }
   ],
   "source": [
    "sqd_u=sheet1['u_score'].apply(lambda x: (x-mean_uscore)**2)\n",
    "sqd_usum=sqd_u.sum()\n",
    "sqd_usum"
   ]
  },
  {
   "cell_type": "code",
   "execution_count": 93,
   "id": "f9cbbf67",
   "metadata": {},
   "outputs": [
    {
     "data": {
      "text/plain": [
       "42.76067302689039"
      ]
     },
     "execution_count": 93,
     "metadata": {},
     "output_type": "execute_result"
    }
   ],
   "source": [
    "var_u = sqd_usum/(sheet1['u_score'].count()-1)\n",
    "var_u"
   ]
  },
  {
   "cell_type": "code",
   "execution_count": 94,
   "id": "48c66072",
   "metadata": {},
   "outputs": [
    {
     "data": {
      "text/plain": [
       "42.76067302689121"
      ]
     },
     "execution_count": 94,
     "metadata": {},
     "output_type": "execute_result"
    }
   ],
   "source": [
    "sheet1['u_score'].var()"
   ]
  },
  {
   "cell_type": "code",
   "execution_count": 95,
   "id": "4366bb4c",
   "metadata": {},
   "outputs": [
    {
     "data": {
      "text/plain": [
       "6.539164551140336"
      ]
     },
     "execution_count": 95,
     "metadata": {},
     "output_type": "execute_result"
    }
   ],
   "source": [
    "daily_sd_u = np.sqrt(var_u)\n",
    "daily_sd_u #volatility"
   ]
  },
  {
   "cell_type": "code",
   "execution_count": 96,
   "id": "b387bdc2",
   "metadata": {},
   "outputs": [
    {
     "data": {
      "text/plain": [
       "124.93056333345731"
      ]
     },
     "execution_count": 96,
     "metadata": {},
     "output_type": "execute_result"
    }
   ],
   "source": [
    "annual_sd_u = daily_sd_u*np.sqrt(365)\n",
    "annual_sd_u "
   ]
  },
  {
   "cell_type": "code",
   "execution_count": 97,
   "id": "9b885835",
   "metadata": {},
   "outputs": [
    {
     "data": {
      "text/plain": [
       "13.907689758037787"
      ]
     },
     "execution_count": 97,
     "metadata": {},
     "output_type": "execute_result"
    }
   ],
   "source": [
    "#mean cesd-score\n",
    "mean_cesdscore = sheet1['cesd_score'].sum()/sheet1['cesd_score'].count()\n",
    "mean_cesdscore"
   ]
  },
  {
   "cell_type": "code",
   "execution_count": 98,
   "id": "98d88dec",
   "metadata": {},
   "outputs": [
    {
     "data": {
      "text/plain": [
       "174003.58319522702"
      ]
     },
     "execution_count": 98,
     "metadata": {},
     "output_type": "execute_result"
    }
   ],
   "source": [
    "sqd_cesd=sheet1['cesd_score'].apply(lambda x: (x-mean_cesdscore)**2)\n",
    "sqd_cesdsum=sqd_cesd.sum()\n",
    "sqd_cesdsum"
   ]
  },
  {
   "cell_type": "code",
   "execution_count": 99,
   "id": "7fb14dba",
   "metadata": {},
   "outputs": [
    {
     "data": {
      "text/plain": [
       "28.841966384091997"
      ]
     },
     "execution_count": 99,
     "metadata": {},
     "output_type": "execute_result"
    }
   ],
   "source": [
    "var_cesd = sqd_cesdsum/(sheet1['cesd_score'].count()-1)\n",
    "var_cesd"
   ]
  },
  {
   "cell_type": "code",
   "execution_count": 100,
   "id": "702e8dea",
   "metadata": {},
   "outputs": [
    {
     "data": {
      "text/plain": [
       "28.84196638409426"
      ]
     },
     "execution_count": 100,
     "metadata": {},
     "output_type": "execute_result"
    }
   ],
   "source": [
    "sheet1['cesd_score'].var()"
   ]
  },
  {
   "cell_type": "code",
   "execution_count": 101,
   "id": "c757e5bc",
   "metadata": {},
   "outputs": [
    {
     "data": {
      "text/plain": [
       "5.370471709644507"
      ]
     },
     "execution_count": 101,
     "metadata": {},
     "output_type": "execute_result"
    }
   ],
   "source": [
    "daily_sd_cesd = np.sqrt(var_cesd)\n",
    "daily_sd_cesd #volatility"
   ]
  },
  {
   "cell_type": "code",
   "execution_count": 103,
   "id": "082a4b22",
   "metadata": {},
   "outputs": [
    {
     "data": {
      "text/plain": [
       "102.60271794739931"
      ]
     },
     "execution_count": 103,
     "metadata": {},
     "output_type": "execute_result"
    }
   ],
   "source": [
    "annual_sd_cesd = daily_sd_cesd*np.sqrt(365)\n",
    "annual_sd_cesd "
   ]
  },
  {
   "cell_type": "code",
   "execution_count": 107,
   "id": "1d72de0f",
   "metadata": {},
   "outputs": [
    {
     "data": {
      "text/html": [
       "<div>\n",
       "<style scoped>\n",
       "    .dataframe tbody tr th:only-of-type {\n",
       "        vertical-align: middle;\n",
       "    }\n",
       "\n",
       "    .dataframe tbody tr th {\n",
       "        vertical-align: top;\n",
       "    }\n",
       "\n",
       "    .dataframe thead th {\n",
       "        text-align: right;\n",
       "    }\n",
       "</style>\n",
       "<table border=\"1\" class=\"dataframe\">\n",
       "  <thead>\n",
       "    <tr style=\"text-align: right;\">\n",
       "      <th></th>\n",
       "      <th>health</th>\n",
       "      <th>employment</th>\n",
       "      <th>adult_dependants</th>\n",
       "      <th>child_dependants</th>\n",
       "      <th>income</th>\n",
       "      <th>num_ppl_in_home</th>\n",
       "      <th>mem_issues</th>\n",
       "      <th>white</th>\n",
       "      <th>black</th>\n",
       "      <th>hispanic</th>\n",
       "      <th>...</th>\n",
       "      <th>cgid_col5</th>\n",
       "      <th>cgid_24</th>\n",
       "      <th>cgid_25</th>\n",
       "      <th>cgid_26</th>\n",
       "      <th>cp_id</th>\n",
       "      <th>case_id.1</th>\n",
       "      <th>assess_id.1</th>\n",
       "      <th>care_goal1</th>\n",
       "      <th>care_goal2</th>\n",
       "      <th>stat_id.1</th>\n",
       "    </tr>\n",
       "  </thead>\n",
       "  <tbody>\n",
       "    <tr>\n",
       "      <th>count</th>\n",
       "      <td>0.0</td>\n",
       "      <td>591.000000</td>\n",
       "      <td>6096.000000</td>\n",
       "      <td>6096.000000</td>\n",
       "      <td>585.000000</td>\n",
       "      <td>6096.0</td>\n",
       "      <td>6096.0</td>\n",
       "      <td>6096.000000</td>\n",
       "      <td>6096.000000</td>\n",
       "      <td>6096.000000</td>\n",
       "      <td>...</td>\n",
       "      <td>0.0</td>\n",
       "      <td>0.0</td>\n",
       "      <td>0.0</td>\n",
       "      <td>0.0</td>\n",
       "      <td>344.000000</td>\n",
       "      <td>344.000000</td>\n",
       "      <td>344.000000</td>\n",
       "      <td>345.000000</td>\n",
       "      <td>345.000000</td>\n",
       "      <td>345.000000</td>\n",
       "    </tr>\n",
       "    <tr>\n",
       "      <th>mean</th>\n",
       "      <td>NaN</td>\n",
       "      <td>3.512690</td>\n",
       "      <td>1.241962</td>\n",
       "      <td>0.381726</td>\n",
       "      <td>5.671795</td>\n",
       "      <td>0.0</td>\n",
       "      <td>0.0</td>\n",
       "      <td>0.033136</td>\n",
       "      <td>0.014108</td>\n",
       "      <td>0.000328</td>\n",
       "      <td>...</td>\n",
       "      <td>NaN</td>\n",
       "      <td>NaN</td>\n",
       "      <td>NaN</td>\n",
       "      <td>NaN</td>\n",
       "      <td>301.453488</td>\n",
       "      <td>1310.078488</td>\n",
       "      <td>3287.247093</td>\n",
       "      <td>37.339130</td>\n",
       "      <td>8.753623</td>\n",
       "      <td>21.869565</td>\n",
       "    </tr>\n",
       "    <tr>\n",
       "      <th>std</th>\n",
       "      <td>NaN</td>\n",
       "      <td>2.378454</td>\n",
       "      <td>0.936202</td>\n",
       "      <td>0.940975</td>\n",
       "      <td>2.751396</td>\n",
       "      <td>0.0</td>\n",
       "      <td>0.0</td>\n",
       "      <td>0.179008</td>\n",
       "      <td>0.117944</td>\n",
       "      <td>0.018112</td>\n",
       "      <td>...</td>\n",
       "      <td>NaN</td>\n",
       "      <td>NaN</td>\n",
       "      <td>NaN</td>\n",
       "      <td>NaN</td>\n",
       "      <td>165.449359</td>\n",
       "      <td>980.890814</td>\n",
       "      <td>2205.682506</td>\n",
       "      <td>26.562088</td>\n",
       "      <td>162.591334</td>\n",
       "      <td>0.525873</td>\n",
       "    </tr>\n",
       "    <tr>\n",
       "      <th>min</th>\n",
       "      <td>NaN</td>\n",
       "      <td>1.000000</td>\n",
       "      <td>0.000000</td>\n",
       "      <td>0.000000</td>\n",
       "      <td>1.000000</td>\n",
       "      <td>0.0</td>\n",
       "      <td>0.0</td>\n",
       "      <td>0.000000</td>\n",
       "      <td>0.000000</td>\n",
       "      <td>0.000000</td>\n",
       "      <td>...</td>\n",
       "      <td>NaN</td>\n",
       "      <td>NaN</td>\n",
       "      <td>NaN</td>\n",
       "      <td>NaN</td>\n",
       "      <td>15.000000</td>\n",
       "      <td>18.000000</td>\n",
       "      <td>32.000000</td>\n",
       "      <td>20.000000</td>\n",
       "      <td>0.000000</td>\n",
       "      <td>21.000000</td>\n",
       "    </tr>\n",
       "    <tr>\n",
       "      <th>25%</th>\n",
       "      <td>NaN</td>\n",
       "      <td>1.000000</td>\n",
       "      <td>1.000000</td>\n",
       "      <td>0.000000</td>\n",
       "      <td>3.000000</td>\n",
       "      <td>0.0</td>\n",
       "      <td>0.0</td>\n",
       "      <td>0.000000</td>\n",
       "      <td>0.000000</td>\n",
       "      <td>0.000000</td>\n",
       "      <td>...</td>\n",
       "      <td>NaN</td>\n",
       "      <td>NaN</td>\n",
       "      <td>NaN</td>\n",
       "      <td>NaN</td>\n",
       "      <td>155.750000</td>\n",
       "      <td>453.000000</td>\n",
       "      <td>1131.000000</td>\n",
       "      <td>29.000000</td>\n",
       "      <td>0.000000</td>\n",
       "      <td>22.000000</td>\n",
       "    </tr>\n",
       "    <tr>\n",
       "      <th>50%</th>\n",
       "      <td>NaN</td>\n",
       "      <td>4.000000</td>\n",
       "      <td>1.000000</td>\n",
       "      <td>0.000000</td>\n",
       "      <td>7.000000</td>\n",
       "      <td>0.0</td>\n",
       "      <td>0.0</td>\n",
       "      <td>0.000000</td>\n",
       "      <td>0.000000</td>\n",
       "      <td>0.000000</td>\n",
       "      <td>...</td>\n",
       "      <td>NaN</td>\n",
       "      <td>NaN</td>\n",
       "      <td>NaN</td>\n",
       "      <td>NaN</td>\n",
       "      <td>286.000000</td>\n",
       "      <td>1181.500000</td>\n",
       "      <td>3259.000000</td>\n",
       "      <td>29.000000</td>\n",
       "      <td>0.000000</td>\n",
       "      <td>22.000000</td>\n",
       "    </tr>\n",
       "    <tr>\n",
       "      <th>75%</th>\n",
       "      <td>NaN</td>\n",
       "      <td>6.000000</td>\n",
       "      <td>1.000000</td>\n",
       "      <td>0.000000</td>\n",
       "      <td>8.000000</td>\n",
       "      <td>0.0</td>\n",
       "      <td>0.0</td>\n",
       "      <td>0.000000</td>\n",
       "      <td>0.000000</td>\n",
       "      <td>0.000000</td>\n",
       "      <td>...</td>\n",
       "      <td>NaN</td>\n",
       "      <td>NaN</td>\n",
       "      <td>NaN</td>\n",
       "      <td>NaN</td>\n",
       "      <td>459.250000</td>\n",
       "      <td>1999.000000</td>\n",
       "      <td>5718.250000</td>\n",
       "      <td>45.000000</td>\n",
       "      <td>0.000000</td>\n",
       "      <td>22.000000</td>\n",
       "    </tr>\n",
       "    <tr>\n",
       "      <th>max</th>\n",
       "      <td>NaN</td>\n",
       "      <td>8.000000</td>\n",
       "      <td>35.000000</td>\n",
       "      <td>15.000000</td>\n",
       "      <td>8.000000</td>\n",
       "      <td>0.0</td>\n",
       "      <td>0.0</td>\n",
       "      <td>1.000000</td>\n",
       "      <td>1.000000</td>\n",
       "      <td>1.000000</td>\n",
       "      <td>...</td>\n",
       "      <td>NaN</td>\n",
       "      <td>NaN</td>\n",
       "      <td>NaN</td>\n",
       "      <td>NaN</td>\n",
       "      <td>557.000000</td>\n",
       "      <td>3561.000000</td>\n",
       "      <td>6480.000000</td>\n",
       "      <td>470.000000</td>\n",
       "      <td>3020.000000</td>\n",
       "      <td>29.000000</td>\n",
       "    </tr>\n",
       "  </tbody>\n",
       "</table>\n",
       "<p>8 rows × 230 columns</p>\n",
       "</div>"
      ],
      "text/plain": [
       "       health  employment  adult_dependants  child_dependants      income  \\\n",
       "count     0.0  591.000000       6096.000000       6096.000000  585.000000   \n",
       "mean      NaN    3.512690          1.241962          0.381726    5.671795   \n",
       "std       NaN    2.378454          0.936202          0.940975    2.751396   \n",
       "min       NaN    1.000000          0.000000          0.000000    1.000000   \n",
       "25%       NaN    1.000000          1.000000          0.000000    3.000000   \n",
       "50%       NaN    4.000000          1.000000          0.000000    7.000000   \n",
       "75%       NaN    6.000000          1.000000          0.000000    8.000000   \n",
       "max       NaN    8.000000         35.000000         15.000000    8.000000   \n",
       "\n",
       "       num_ppl_in_home  mem_issues        white        black     hispanic  \\\n",
       "count           6096.0      6096.0  6096.000000  6096.000000  6096.000000   \n",
       "mean               0.0         0.0     0.033136     0.014108     0.000328   \n",
       "std                0.0         0.0     0.179008     0.117944     0.018112   \n",
       "min                0.0         0.0     0.000000     0.000000     0.000000   \n",
       "25%                0.0         0.0     0.000000     0.000000     0.000000   \n",
       "50%                0.0         0.0     0.000000     0.000000     0.000000   \n",
       "75%                0.0         0.0     0.000000     0.000000     0.000000   \n",
       "max                0.0         0.0     1.000000     1.000000     1.000000   \n",
       "\n",
       "       ...  cgid_col5  cgid_24  cgid_25  cgid_26       cp_id    case_id.1  \\\n",
       "count  ...        0.0      0.0      0.0      0.0  344.000000   344.000000   \n",
       "mean   ...        NaN      NaN      NaN      NaN  301.453488  1310.078488   \n",
       "std    ...        NaN      NaN      NaN      NaN  165.449359   980.890814   \n",
       "min    ...        NaN      NaN      NaN      NaN   15.000000    18.000000   \n",
       "25%    ...        NaN      NaN      NaN      NaN  155.750000   453.000000   \n",
       "50%    ...        NaN      NaN      NaN      NaN  286.000000  1181.500000   \n",
       "75%    ...        NaN      NaN      NaN      NaN  459.250000  1999.000000   \n",
       "max    ...        NaN      NaN      NaN      NaN  557.000000  3561.000000   \n",
       "\n",
       "       assess_id.1  care_goal1   care_goal2   stat_id.1  \n",
       "count   344.000000  345.000000   345.000000  345.000000  \n",
       "mean   3287.247093   37.339130     8.753623   21.869565  \n",
       "std    2205.682506   26.562088   162.591334    0.525873  \n",
       "min      32.000000   20.000000     0.000000   21.000000  \n",
       "25%    1131.000000   29.000000     0.000000   22.000000  \n",
       "50%    3259.000000   29.000000     0.000000   22.000000  \n",
       "75%    5718.250000   45.000000     0.000000   22.000000  \n",
       "max    6480.000000  470.000000  3020.000000   29.000000  \n",
       "\n",
       "[8 rows x 230 columns]"
      ]
     },
     "execution_count": 107,
     "metadata": {},
     "output_type": "execute_result"
    }
   ],
   "source": [
    "import seaborn as sns\n",
    "sheet1.describe()"
   ]
  },
  {
   "cell_type": "code",
   "execution_count": 112,
   "id": "7a01e6f2",
   "metadata": {},
   "outputs": [
    {
     "data": {
      "text/plain": [
       "relationship            0\n",
       "case_status             0\n",
       "assessment_status       0\n",
       "care_plan_status     5751\n",
       "CG_FName                0\n",
       "                     ... \n",
       "modified_at          5751\n",
       "modified_by          5751\n",
       "created_at           5752\n",
       "created_by.1         5751\n",
       "cp_complete          5751\n",
       "Length: 273, dtype: int64"
      ]
     },
     "execution_count": 112,
     "metadata": {},
     "output_type": "execute_result"
    }
   ],
   "source": [
    "sheet1.isnull().sum() #find number of NULL values"
   ]
  },
  {
   "cell_type": "code",
   "execution_count": 114,
   "id": "658e0ef9",
   "metadata": {},
   "outputs": [
    {
     "data": {
      "text/plain": [
       "<seaborn.axisgrid.FacetGrid at 0x25b59958100>"
      ]
     },
     "execution_count": 114,
     "metadata": {},
     "output_type": "execute_result"
    },
    {
     "data": {
      "image/png": "[encoded data removed]",
      "text/plain": [
       "<Figure size 360x360 with 1 Axes>"
      ]
     },
     "metadata": {
      "needs_background": "light"
     },
     "output_type": "display_data"
    }
   ],
   "source": [
    "sns.relplot(x='d_score', y='relationship', data=sheet1)"
   ]
  },
  {
   "cell_type": "code",
   "execution_count": 115,
   "id": "6d65f362",
   "metadata": {},
   "outputs": [
    {
     "data": {
      "text/plain": [
       "<seaborn.axisgrid.FacetGrid at 0x25b58e2a400>"
      ]
     },
     "execution_count": 115,
     "metadata": {},
     "output_type": "execute_result"
    },
    {
     "data": {
      "image/png": "[encoded data removed]",
      "text/plain": [
       "<Figure size 360x360 with 1 Axes>"
      ]
     },
     "metadata": {
      "needs_background": "light"
     },
     "output_type": "display_data"
    }
   ],
   "source": [
    "sns.relplot(x='d_score', y='assessment_status', data=sheet1)"
   ]
  },
  {
   "cell_type": "code",
   "execution_count": 117,
   "id": "97261d5e",
   "metadata": {},
   "outputs": [
    {
     "data": {
      "text/plain": [
       "<seaborn.axisgrid.FacetGrid at 0x25b59940c10>"
      ]
     },
     "execution_count": 117,
     "metadata": {},
     "output_type": "execute_result"
    },
    {
     "data": {
      "image/png": "[encoded data removed]",
      "text/plain": [
       "<Figure size 360x360 with 1 Axes>"
      ]
     },
     "metadata": {
      "needs_background": "light"
     },
     "output_type": "display_data"
    }
   ],
   "source": [
    "sns.relplot(x='d_score', y='care_plan_status', data=sheet1)"
   ]
  },
  {
   "cell_type": "code",
   "execution_count": 121,
   "id": "a50c28ab",
   "metadata": {},
   "outputs": [
    {
     "data": {
      "text/plain": [
       "<seaborn.axisgrid.FacetGrid at 0x25b595d74f0>"
      ]
     },
     "execution_count": 121,
     "metadata": {},
     "output_type": "execute_result"
    },
    {
     "data": {
      "image/png": "[encoded data removed]",
      "text/plain": [
       "<Figure size 360x360 with 1 Axes>"
      ]
     },
     "metadata": {
      "needs_background": "light"
     },
     "output_type": "display_data"
    }
   ],
   "source": [
    "sns.relplot(x='d_score', y='d_2', data=sheet1)"
   ]
  },
  {
   "cell_type": "code",
   "execution_count": 123,
   "id": "5cb90226",
   "metadata": {},
   "outputs": [],
   "source": [
    "sheet = pd.read_excel(\"C:/Users/gisha/Downloads/p2_gg.xlsx\")"
   ]
  },
  {
   "cell_type": "code",
   "execution_count": null,
   "id": "9bfd1a62",
   "metadata": {},
   "outputs": [],
   "source": [
    "sns.relplot(x='d_score', y='race', data=sheet)"
   ]
  },
  {
   "cell_type": "code",
   "execution_count": 126,
   "id": "94be7eb1",
   "metadata": {},
   "outputs": [
    {
     "data": {
      "text/plain": [
       "<seaborn.axisgrid.FacetGrid at 0x25b59b39490>"
      ]
     },
     "execution_count": 126,
     "metadata": {},
     "output_type": "execute_result"
    },
    {
     "data": {
      "image/png": "[encoded data removed]",
      "text/plain": [
       "<Figure size 360x360 with 1 Axes>"
      ]
     },
     "metadata": {
      "needs_background": "light"
     },
     "output_type": "display_data"
    }
   ],
   "source": [
    "sns.relplot(x='d_score', y='income', data=sheet1)"
   ]
  },
  {
   "cell_type": "code",
   "execution_count": 127,
   "id": "19fb59b7",
   "metadata": {},
   "outputs": [
    {
     "data": {
      "text/plain": [
       "<seaborn.axisgrid.FacetGrid at 0x25b59b24370>"
      ]
     },
     "execution_count": 127,
     "metadata": {},
     "output_type": "execute_result"
    },
    {
     "data": {
      "image/png": "[encoded data removed]",
      "text/plain": [
       "<Figure size 360x360 with 1 Axes>"
      ]
     },
     "metadata": {
      "needs_background": "light"
     },
     "output_type": "display_data"
    }
   ],
   "source": [
    "sns.relplot(x='d_score', y='adult_dependants', data=sheet1)"
   ]
  },
  {
   "cell_type": "code",
   "execution_count": 129,
   "id": "375e0c97",
   "metadata": {},
   "outputs": [
    {
     "data": {
      "text/plain": [
       "<seaborn.axisgrid.FacetGrid at 0x25b59dd89d0>"
      ]
     },
     "execution_count": 129,
     "metadata": {},
     "output_type": "execute_result"
    },
    {
     "data": {
      "image/png": "[encoded data removed]",
      "text/plain": [
       "<Figure size 360x360 with 1 Axes>"
      ]
     },
     "metadata": {
      "needs_background": "light"
     },
     "output_type": "display_data"
    }
   ],
   "source": [
    "sns.relplot(x='d_score', y='child_dependants', data=sheet1)"
   ]
  },
  {
   "cell_type": "code",
   "execution_count": 131,
   "id": "78eadef4",
   "metadata": {},
   "outputs": [],
   "source": [
    "import matplotlib.pyplot as plt"
   ]
  },
  {
   "cell_type": "code",
   "execution_count": 132,
   "id": "81319793",
   "metadata": {},
   "outputs": [
    {
     "data": {
      "text/plain": [
       "<Figure size 2160x1080 with 0 Axes>"
      ]
     },
     "metadata": {},
     "output_type": "display_data"
    },
    {
     "data": {
      "image/png": "[encoded data removed]",
      "text/plain": [
       "<Figure size 1440x720 with 1 Axes>"
      ]
     },
     "metadata": {
      "needs_background": "light"
     },
     "output_type": "display_data"
    }
   ],
   "source": [
    "plt.figure(figsize = (30,15))\n",
    "f,ax = plt.subplots(figsize =(20,10))\n",
    "sns.boxplot(x=\"d_score\" , y=\"income\", hue=\"relationship\",data=sheet1,palette=\"PRGn\",ax=ax)\n",
    "plt.show()"
   ]
  },
  {
   "cell_type": "code",
   "execution_count": 136,
   "id": "e26fc370",
   "metadata": {},
   "outputs": [
    {
     "name": "stderr",
     "output_type": "stream",
     "text": [
      "C:\\Users\\gisha\\anaconda3\\lib\\site-packages\\seaborn\\_decorators.py:36: FutureWarning: Pass the following variables as keyword args: x, y. From version 0.12, the only valid positional argument will be `data`, and passing other arguments without an explicit keyword will result in an error or misinterpretation.\n",
      "  warnings.warn(\n"
     ]
    },
    {
     "data": {
      "text/plain": [
       "<AxesSubplot:xlabel='income', ylabel='d_score'>"
      ]
     },
     "execution_count": 136,
     "metadata": {},
     "output_type": "execute_result"
    },
    {
     "data": {
      "image/png": "[encoded data removed]",
      "text/plain": [
       "<Figure size 432x288 with 1 Axes>"
      ]
     },
     "metadata": {
      "needs_background": "light"
     },
     "output_type": "display_data"
    }
   ],
   "source": [
    "sns.stripplot(sheet1['income'],sheet1['d_score'])"
   ]
  },
  {
   "cell_type": "code",
   "execution_count": 138,
   "id": "2450aaad",
   "metadata": {},
   "outputs": [
    {
     "name": "stderr",
     "output_type": "stream",
     "text": [
      "C:\\Users\\gisha\\anaconda3\\lib\\site-packages\\seaborn\\_decorators.py:36: FutureWarning: Pass the following variables as keyword args: x, y. From version 0.12, the only valid positional argument will be `data`, and passing other arguments without an explicit keyword will result in an error or misinterpretation.\n",
      "  warnings.warn(\n"
     ]
    },
    {
     "data": {
      "text/plain": [
       "<AxesSubplot:xlabel='d_score', ylabel='relationship'>"
      ]
     },
     "execution_count": 138,
     "metadata": {},
     "output_type": "execute_result"
    },
    {
     "data": {
      "image/png": "[encoded data removed]",
      "text/plain": [
       "<Figure size 432x288 with 1 Axes>"
      ]
     },
     "metadata": {
      "needs_background": "light"
     },
     "output_type": "display_data"
    }
   ],
   "source": [
    "sns.stripplot(sheet1['d_score'],sheet1['relationship'])"
   ]
  },
  {
   "cell_type": "code",
   "execution_count": null,
   "id": "903a8e5d",
   "metadata": {},
   "outputs": [],
   "source": [
    "#import warnings\n",
    "#warnings.filterwarnings(\"ignore\")\n",
    "#sns.pairplot(sheet1, hue=\"d_score\")"
   ]
  },
  {
   "cell_type": "code",
   "execution_count": null,
   "id": "7d0f8344",
   "metadata": {},
   "outputs": [],
   "source": [
    "#fig,ax = plt.subplots(figsize=(20,12))\n",
    "#sns.heatmap(sheet1.corr(),annot=True,cmap=\"YlGnBu\",ax=ax);"
   ]
  },
  {
   "cell_type": "code",
   "execution_count": null,
   "id": "cbe2b05c",
   "metadata": {},
   "outputs": [],
   "source": [
    "sns.relplot(x='cesd_score', y='assessment_status', data=sheet1)"
   ]
  },
  {
   "cell_type": "code",
   "execution_count": null,
   "id": "408195ba",
   "metadata": {},
   "outputs": [],
   "source": [
    "sns.relplot(x='cesd_score', y='assessment_status', data=sheet1)"
   ]
  }
 ],
 "metadata": {
  "kernelspec": {
   "display_name": "Python 3",
   "language": "python",
   "name": "python3"
  },
  "language_info": {
   "codemirror_mode": {
    "name": "ipython",
    "version": 3
   },
   "file_extension": ".py",
   "mimetype": "text/x-python",
   "name": "python",
   "nbconvert_exporter": "python",
   "pygments_lexer": "ipython3",
   "version": "3.8.8"
  }
 },
 "nbformat": 4,
 "nbformat_minor": 5
}
